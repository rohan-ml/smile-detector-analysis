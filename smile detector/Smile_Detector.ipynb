{
  "nbformat": 4,
  "nbformat_minor": 0,
  "metadata": {
    "colab": {
      "name": "Smile Detector.ipynb",
      "provenance": []
    },
    "kernelspec": {
      "name": "python3",
      "display_name": "Python 3"
    }
  },
  "cells": [
    {
      "cell_type": "code",
      "metadata": {
        "id": "_VRSJHsll9A1",
        "colab_type": "code",
        "colab": {}
      },
      "source": [
        "from skimage.io import imread\n",
        "from skimage.measure import block_reduce\n",
        "from PIL import Image\n",
        "from os import listdir, path, remove\n",
        "\n",
        "import numpy as np\n",
        "from keras.utils import np_utils"
      ],
      "execution_count": 0,
      "outputs": []
    },
    {
      "cell_type": "code",
      "metadata": {
        "id": "9ScXFD1log1L",
        "colab_type": "code",
        "colab": {}
      },
      "source": [
        "def img2array(image_path, ii_size=(64, 64)):\n",
        "  data = imread(image_path, as_gray=True)\n",
        "  data = block_reduce(data, block_size=(2, 2))\n",
        "  return data"
      ],
      "execution_count": 0,
      "outputs": []
    },
    {
      "cell_type": "code",
      "metadata": {
        "id": "nHcPKl4RpThn",
        "colab_type": "code",
        "colab": {}
      },
      "source": [
        "def normalize(image_array):\n",
        "  data = np.asarray(image_array) / 255\n",
        "  data = np.expand_dims(data, axis = -1)\n",
        "  return data"
      ],
      "execution_count": 0,
      "outputs": []
    },
    {
      "cell_type": "code",
      "metadata": {
        "id": "pEn2MSxZnTbb",
        "colab_type": "code",
        "colab": {}
      },
      "source": [
        "def load_data(posix_path):\n",
        "  X=[]\n",
        "  for filename in listdir(posix_path):\n",
        "    if not filename.endswith(\".jpg\"):\n",
        "      continue\n",
        "    p=path.join(posix_path, filename)\n",
        "    data = img2array(p)\n",
        "    X.append(data)\n",
        "  \n",
        "  return normalize(X)\n"
      ],
      "execution_count": 0,
      "outputs": []
    },
    {
      "cell_type": "code",
      "metadata": {
        "id": "xe_btdN7v0yp",
        "colab_type": "code",
        "colab": {}
      },
      "source": [
        "def gen_labels(length, label):\n",
        "  return [label for _ in range(length)]"
      ],
      "execution_count": 0,
      "outputs": []
    },
    {
      "cell_type": "code",
      "metadata": {
        "id": "9DLibydim7fl",
        "colab_type": "code",
        "colab": {}
      },
      "source": [
        "def prepare_image_data():\n",
        "  x_neg = load_data(\"data/negatives\")\n",
        "  x_pos = load_data(\"data/positives\")\n",
        "  y_neg = gen_labels(len(x_neg), 0)\n",
        "  y_pos = gen_labels(len(x_pos), 1)\n",
        "  \n",
        "  X = np.concatenate([x_neg, x_pos])\n",
        "  Y = np.asarray(y_neg + y_pos)\n",
        "\n",
        "  X = X.astype(np.float32)\n",
        "  Y = Y.astype(np.int32)\n",
        "\n",
        "  inputs=X.shape[1:]\n",
        "\n",
        "  classes=2\n",
        "  Y = np_utils.to_categorical(Y, classes).astype(np.float32)\n",
        "\n",
        "  ixes = np.arange(len(X))\n",
        "  np.random.shuffle(ixes)\n",
        "  \n",
        "  X = X[ixes]\n",
        "  Y = Y[ixes]\n",
        "  \n",
        "  return X, Y, inputs, classes"
      ],
      "execution_count": 0,
      "outputs": []
    },
    {
      "cell_type": "code",
      "metadata": {
        "colab_type": "code",
        "id": "rDeoeBrzr7-E",
        "colab": {}
      },
      "source": [
        "X, Y, inputs, classes = prepare_image_data()"
      ],
      "execution_count": 0,
      "outputs": []
    },
    {
      "cell_type": "code",
      "metadata": {
        "id": "NQMNnNAgx1vm",
        "colab_type": "code",
        "colab": {}
      },
      "source": [
        "from keras.models import Sequential\n",
        "from keras.layers import Embedding, Dense, Flatten, Dropout\n",
        "from keras.layers.convolutional import Conv2D, MaxPooling2D"
      ],
      "execution_count": 0,
      "outputs": []
    },
    {
      "cell_type": "code",
      "metadata": {
        "id": "6_B_HN5ewtVm",
        "colab_type": "code",
        "colab": {}
      },
      "source": [
        "def create_smile_cnn(inputs=(32,32,1), classes=2):\n",
        "  model = Sequential()\n",
        "  \n",
        "  model.add(Conv2D(filters=32, kernel_size=(3, 3), activation='relu', input_shape=inputs))\n",
        "  model.add(Conv2D(filters=32, kernel_size=(3, 3), activation='relu'))\n",
        "  \n",
        "  model.add(MaxPooling2D(pool_size=(2, 2)))\n",
        "  model.add(Dropout(0.25))\n",
        "  model.add(Flatten())\n",
        "  \n",
        "  model.add(Dense(128, activation='relu'))\n",
        "  model.add(Dropout(0.5))\n",
        "  \n",
        "  model.add(Dense(classes, activation='softmax'))\n",
        "  return model"
      ],
      "execution_count": 0,
      "outputs": []
    },
    {
      "cell_type": "code",
      "metadata": {
        "id": "FYyK0kTQyVS6",
        "colab_type": "code",
        "colab": {}
      },
      "source": [
        "def train_model(train_x, train_y, inputs, classes, epochs, batches):\n",
        "  model=create_smile_cnn(inputs=(32,32,1), classes=2)\n",
        "  model.compile(loss='categorical_crossentropy', optimizer='adam', metrics=['accuracy'])\n",
        "\n",
        "  trs, tt=int(len(train_x)*0.90), int(len(train_x)*0.10)\n",
        "  train_x, train_y, test_x, test_y=train_x[0:trs], train_y[0:trs], train_x[-tt:], train_y[-tt:]\n",
        "\n",
        "  model.fit(train_x, train_y, validation_data=(test_x, test_y), epochs=epochs, batch_size=batches, verbose=2)\n",
        "  return model, train_x, train_y, test_x, test_y"
      ],
      "execution_count": 0,
      "outputs": []
    },
    {
      "cell_type": "code",
      "metadata": {
        "id": "RJ80-TLayezF",
        "colab_type": "code",
        "colab": {}
      },
      "source": [
        "train_x, train_y, inputs, classes=prepare_image_data()\n",
        "model, train_x, train_y, test_x, test_y =train_model(train_x, train_y, inputs, classes, epochs=10, batches=1)"
      ],
      "execution_count": 0,
      "outputs": []
    },
    {
      "cell_type": "code",
      "metadata": {
        "id": "neY04fc4zXm5",
        "colab_type": "code",
        "colab": {}
      },
      "source": [
        ""
      ],
      "execution_count": 0,
      "outputs": []
    }
  ]
}